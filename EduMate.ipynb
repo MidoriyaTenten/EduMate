{
  "cells": [
    {
      "cell_type": "markdown",
      "metadata": {
        "id": "Uwy_zShl-_I8"
      },
      "source": [
        "# EduMate - Sistem Rekomendasi Pembelajaran"
      ]
    },
    {
      "cell_type": "code",
      "execution_count": null,
      "metadata": {
        "colab": {
          "base_uri": "https://localhost:8080/"
        },
        "id": "rzusRzHE_H8d",
        "outputId": "bafcf765-6b9d-40d2-f3c4-2ec424048944"
      },
      "outputs": [],
      "source": [
        "import pandas as pd             \n",
        "import numpy as np             \n",
        "from sklearn.preprocessing import LabelEncoder, StandardScaler \n",
        "from sklearn.model_selection import train_test_split \n",
        "from sklearn.metrics import mean_squared_error, mean_absolute_error\n",
        "import pickle                  \n",
        "import warnings                 \n",
        "warnings.filterwarnings('ignore') \n",
        "\n",
        "import tensorflow as tf         \n",
        "from tensorflow.keras.models import Model \n",
        "from tensorflow.keras.layers import Input, Embedding, Flatten, Dense, Concatenate, Dropout\n",
        "from tensorflow.keras.optimizers import Adam \n",
        "from tensorflow.keras.models import load_model\n",
        "import os  "
      ]
    },
    {
      "cell_type": "markdown",
      "metadata": {
        "id": "ksRB1BsCAYqB"
      },
      "source": [
        "## 1. LOADING DATA"
      ]
    },
    {
      "cell_type": "code",
      "execution_count": null,
      "metadata": {
        "colab": {
          "base_uri": "https://localhost:8080/"
        },
        "id": "q_KOj3D-AcIp",
        "outputId": "2e4f19de-d839-4d1a-8f21-d8b59891fef4"
      },
      "outputs": [
        {
          "name": "stdout",
          "output_type": "stream",
          "text": [
            "Memuat dataset...\n",
            "✅ Data mahasiswa dimuat: (300, 10) baris\n",
            "✅ Data konten dimuat: (200, 8) baris\n",
            "✅ Data interaksi dimuat: (3000, 8) baris\n"
          ]
        }
      ],
      "source": [
        "print(\"Memuat dataset...\")\n",
        "try:\n",
        "    data_mahasiswa = pd.read_csv('dataset/data_mahasiswa.csv')\n",
        "    data_konten = pd.read_csv('dataset/data_konten.csv')\n",
        "    data_interaksi = pd.read_csv('dataset/interaksi_user_konten.csv')\n",
        "\n",
        "    print(f\"✅ Data mahasiswa dimuat: {data_mahasiswa.shape} baris\")\n",
        "    print(f\"✅ Data konten dimuat: {data_konten.shape} baris\")\n",
        "    print(f\"✅ Data interaksi dimuat: {data_interaksi.shape} baris\")\n",
        "except FileNotFoundError as e:\n",
        "    print(f\"❌ Error saat memuat data: {e}. Pastikan file CSV ada di folder 'dataset'.\")\n",
        "    exit()\n",
        "\n"
      ]
    },
    {
      "cell_type": "markdown",
      "metadata": {
        "id": "1XSs01QdAlE8"
      },
      "source": [
        "## 2. EXPLORATORY DATA ANALYSIS (EDA)"
      ]
    },
    {
      "cell_type": "code",
      "execution_count": null,
      "metadata": {
        "colab": {
          "base_uri": "https://localhost:8080/"
        },
        "id": "mILo_dVRAjOb",
        "outputId": "8d3de3fb-e1a5-4407-d79a-c7b08924fdf5"
      },
      "outputs": [
        {
          "name": "stdout",
          "output_type": "stream",
          "text": [
            "\n",
            "🔍 Gambaran Umum Data (Mahasiswa):\n",
            "<class 'pandas.core.frame.DataFrame'>\n",
            "RangeIndex: 300 entries, 0 to 299\n",
            "Data columns (total 10 columns):\n",
            " #   Column                  Non-Null Count  Dtype  \n",
            "---  ------                  --------------  -----  \n",
            " 0   id_mahasiswa            300 non-null    object \n",
            " 1   nama                    300 non-null    object \n",
            " 2   jurusan                 300 non-null    object \n",
            " 3   angkatan                300 non-null    int64  \n",
            " 4   ipk_terakhir            300 non-null    float64\n",
            " 5   device_preference       300 non-null    object \n",
            " 6   learning_style          300 non-null    object \n",
            " 7   goal                    300 non-null    object \n",
            " 8   waktu_belajar_per_hari  300 non-null    int64  \n",
            " 9   ketersediaan_belajar    300 non-null    object \n",
            "dtypes: float64(1), int64(2), object(7)\n",
            "memory usage: 23.6+ KB\n",
            "None\n",
            "\n",
            "🔍 Gambaran Umum Data (Konten):\n",
            "<class 'pandas.core.frame.DataFrame'>\n",
            "RangeIndex: 200 entries, 0 to 199\n",
            "Data columns (total 8 columns):\n",
            " #   Column           Non-Null Count  Dtype  \n",
            "---  ------           --------------  -----  \n",
            " 0   id_konten        200 non-null    object \n",
            " 1   judul            200 non-null    object \n",
            " 2   mata_kuliah      200 non-null    object \n",
            " 3   platform         200 non-null    object \n",
            " 4   format           200 non-null    object \n",
            " 5   durasi           200 non-null    int64  \n",
            " 6   kesulitan        200 non-null    object \n",
            " 7   rating_pengguna  200 non-null    float64\n",
            "dtypes: float64(1), int64(1), object(6)\n",
            "memory usage: 12.6+ KB\n",
            "None\n",
            "Nilai unik 'mata_kuliah' di data_konten: 5\n",
            "Contoh nilai 'mata_kuliah': ['Matematika Diskrit', 'Sistem Operasi', 'Matematika Diskrit', 'Sistem Operasi', 'Pemrograman Dasar']\n",
            "\n",
            "🔍 Gambaran Umum Data (Interaksi):\n",
            "<class 'pandas.core.frame.DataFrame'>\n",
            "RangeIndex: 3000 entries, 0 to 2999\n",
            "Data columns (total 8 columns):\n",
            " #   Column         Non-Null Count  Dtype \n",
            "---  ------         --------------  ----- \n",
            " 0   id_interaksi   3000 non-null   object\n",
            " 1   id_mahasiswa   3000 non-null   object\n",
            " 2   id_konten      3000 non-null   object\n",
            " 3   waktu_akses    3000 non-null   object\n",
            " 4   durasi_tonton  3000 non-null   int64 \n",
            " 5   feedback       3000 non-null   object\n",
            " 6   device         3000 non-null   object\n",
            " 7   status         3000 non-null   object\n",
            "dtypes: int64(1), object(7)\n",
            "memory usage: 187.6+ KB\n",
            "None\n"
          ]
        }
      ],
      "source": [
        "# Menampilkan informasi dasar untuk memahami struktur data\n",
        "print(\"\\n🔍 Gambaran Umum Data (Mahasiswa):\")\n",
        "print(data_mahasiswa.info())\n",
        "\n",
        "print(\"\\n🔍 Gambaran Umum Data (Konten):\")\n",
        "print(data_konten.info())\n",
        "print(f\"Nilai unik 'mata_kuliah' di data_konten: {data_konten['mata_kuliah'].nunique()}\")\n",
        "print(f\"Contoh nilai 'mata_kuliah': {data_konten['mata_kuliah'].head().tolist()}\")\n",
        "\n",
        "print(\"\\n🔍 Gambaran Umum Data (Interaksi):\")\n",
        "print(data_interaksi.info())"
      ]
    },
    {
      "cell_type": "markdown",
      "metadata": {
        "id": "vfP_hXvPAt3F"
      },
      "source": [
        "## 3. DATA PREPROCESSING"
      ]
    },
    {
      "cell_type": "code",
      "execution_count": null,
      "metadata": {
        "id": "IpwURt9mA1yO"
      },
      "outputs": [
        {
          "name": "stdout",
          "output_type": "stream",
          "text": [
            "\n",
            "⚙️ Memulai pra-pemrosesan data...\n",
            "✅ Kolom 'feedback' dikonversi ke 'feedback_score'.\n",
            "✅ Kolom 'status' dikonversi ke 'completion_score'.\n"
          ]
        }
      ],
      "source": [
        "print(\"\\n⚙️ Memulai pra-pemrosesan data...\")\n",
        "if not data_interaksi.empty and not data_konten.empty and not data_mahasiswa.empty:\n",
        "    \n",
        "    feedback_mapping = {\n",
        "        'Sangat Membantu': 5, 'Bermanfaat': 4, 'Cukup': 3,\n",
        "        'Kurang': 2, 'Tidak Membantu': 1\n",
        "    }\n",
        "    data_interaksi['feedback_score'] = data_interaksi['feedback'].map(feedback_mapping)\n",
        "    print(\"✅ Kolom 'feedback' dikonversi ke 'feedback_score'.\")\n",
        "\n",
        "    data_interaksi['completion_score'] = data_interaksi['status'].map({'Selesai': 1, 'Belum Selesai': 0})\n",
        "    print(\"✅ Kolom 'status' dikonversi ke 'completion_score'.\")\n",
        "\n",
        "else:\n",
        "    print(\"❌ Salah satu atau semua dataset kosong, pra-pemrosesan awal tidak dapat dilakukan.\")\n",
        "    exit()"
      ]
    },
    {
      "cell_type": "code",
      "execution_count": null,
      "metadata": {
        "id": "uTCEnZM3A6P2"
      },
      "outputs": [
        {
          "name": "stdout",
          "output_type": "stream",
          "text": [
            "✅ 'Watch ratio' dihitung dan dinormalisasi.\n"
          ]
        }
      ],
      "source": [
        "# Feature engineering untuk durasi normalized (watch_ratio)\n",
        "if not data_interaksi.empty and not data_konten.empty:\n",
        "    \n",
        "    if 'id_konten' in data_interaksi.columns and 'id_konten' in data_konten.columns and 'durasi' in data_konten.columns:\n",
        "        data_interaksi = data_interaksi.merge(\n",
        "            data_konten[['id_konten', 'durasi']],\n",
        "            on='id_konten',\n",
        "            how='left'\n",
        "        )\n",
        "\n",
        "        if 'durasi_tonton' in data_interaksi.columns and 'durasi' in data_interaksi.columns:\n",
        "            data_interaksi['watch_ratio'] = data_interaksi.apply(\n",
        "                lambda row: row['durasi_tonton'] / row['durasi'] if row['durasi'] > 0 else 0,\n",
        "                axis=1\n",
        "            )\n",
        "            data_interaksi['watch_ratio'] = data_interaksi['watch_ratio'].clip(0, 1).fillna(0)\n",
        "            print(f\"✅ 'Watch ratio' dihitung dan dinormalisasi.\")\n",
        "        else:\n",
        "            print(f\"⚠️ Kolom 'durasi_tonton' atau 'durasi' tidak ditemukan untuk menghitung watch_ratio di data_interaksi setelah merge.\")\n",
        "            data_interaksi['watch_ratio'] = 0.0 \n",
        "    else:\n",
        "        print(\"⚠️ Kolom kunci untuk merge (id_konten) atau kolom durasi tidak ditemukan di data_interaksi/data_konten. Watch_ratio tidak dihitung.\")\n",
        "        data_interaksi['watch_ratio'] = 0.0\n",
        "else:\n",
        "    print(\"⚠️ Data interaksi atau konten kosong. Watch_ratio tidak dihitung.\")\n",
        "    if 'watch_ratio' not in data_interaksi.columns: \n",
        "        data_interaksi['watch_ratio'] = 0.0"
      ]
    },
    {
      "cell_type": "code",
      "execution_count": null,
      "metadata": {
        "colab": {
          "base_uri": "https://localhost:8080/"
        },
        "id": "UdNXm8g_BE9X",
        "outputId": "b291208e-ccba-4714-8d75-926e194b495d"
      },
      "outputs": [
        {
          "name": "stdout",
          "output_type": "stream",
          "text": [
            "🔗 Menggabungkan dataset (merging)...\n",
            "✅ Data gabungan ('full_data') siap dengan 3000 baris dan 28 kolom.\n",
            "Contoh kolom setelah semua merge: ['id_interaksi', 'id_mahasiswa', 'id_konten', 'waktu_akses', 'durasi_tonton', 'feedback', 'device', 'status', 'feedback_score', 'completion_score', 'durasi_interaksi', 'watch_ratio', 'nama', 'jurusan', 'angkatan', 'ipk_terakhir', 'device_preference', 'learning_style', 'goal', 'waktu_belajar_per_hari']\n"
          ]
        }
      ],
      "source": [
        "### Menggabungkan Semua Data\n",
        "print(\"🔗 Menggabungkan dataset (merging)...\")\n",
        "full_data = data_interaksi.merge(data_mahasiswa, on='id_mahasiswa', how='left')\n",
        "full_data = full_data.merge(data_konten, on='id_konten', how='left', suffixes=('_interaksi', '_konten'))\n",
        "\n",
        "print(f\"✅ Data gabungan ('full_data') siap dengan {full_data.shape[0]} baris dan {full_data.shape[1]} kolom.\")\n",
        "print(\"Contoh kolom setelah semua merge:\", full_data.columns.tolist()[:20])"
      ]
    },
    {
      "cell_type": "code",
      "execution_count": null,
      "metadata": {
        "colab": {
          "base_uri": "https://localhost:8080/"
        },
        "id": "xjhkVRjEEI9F",
        "outputId": "70c154e3-452f-44fe-beba-991d2fa26712"
      },
      "outputs": [
        {
          "name": "stdout",
          "output_type": "stream",
          "text": [
            "🛠️ Menangani nilai yang hilang...\n",
            "✅ Nilai yang hilang telah ditangani.\n"
          ]
        }
      ],
      "source": [
        "### Menangani Nilai yang Hilang (Missing Values)\n",
        "print(\"🛠️ Menangani nilai yang hilang...\")\n",
        "if not full_data.empty:\n",
        "    numeric_cols = full_data.select_dtypes(include=[np.number]).columns\n",
        "    for col in numeric_cols:\n",
        "        full_data[col] = full_data[col].fillna(full_data[col].median())\n",
        "\n",
        "    categorical_cols = full_data.select_dtypes(include=['object']).columns\n",
        "    for col in categorical_cols:\n",
        "        full_data[col] = full_data[col].fillna('Unknown') \n",
        "    print(\"✅ Nilai yang hilang telah ditangani.\")\n",
        "else:\n",
        "    print(\"⚠️ 'full_data' kosong, tidak ada nilai yang hilang untuk ditangani.\")"
      ]
    },
    {
      "cell_type": "code",
      "execution_count": null,
      "metadata": {
        "colab": {
          "base_uri": "https://localhost:8080/"
        },
        "id": "aimzpf9lEksq",
        "outputId": "05e22054-c97a-41cf-8c77-33550076912e"
      },
      "outputs": [
        {
          "name": "stdout",
          "output_type": "stream",
          "text": [
            "🏷️ Mengkodekan fitur kategorikal (Label Encoding)...\n",
            "   ✅ 'jurusan' di-encode. Kelas yang ditemukan: ['Akuntansi', 'Informatika', 'Manajemen', 'Sistem Informasi', 'Teknik Elektro']\n",
            "   ✅ 'device_preference' di-encode. Kelas yang ditemukan: ['HP', 'Laptop', 'Tablet']\n",
            "   ✅ 'learning_style' di-encode. Kelas yang ditemukan: ['Auditory', 'Kinesthetic', 'Visual']\n",
            "   ✅ 'goal' di-encode. Kelas yang ditemukan: ['Lulus Cepat', 'Pahami Materi', 'Raih IPK Tinggi']\n",
            "   ✅ 'ketersediaan_belajar' di-encode. Kelas yang ditemukan: ['Malam', 'Pagi', 'Siang']\n",
            "   ✅ 'mata_kuliah' di-encode. Kelas yang ditemukan: ['Basis Data', 'Matematika Diskrit', 'Pemrograman Dasar', 'Sistem Operasi', 'Statistik']\n",
            "   ✅ 'platform' di-encode. Kelas yang ditemukan: ['Coursera', 'Dicoding', 'Medium', 'Modul Kampus', 'YouTube']\n",
            "   ✅ 'format' di-encode. Kelas yang ditemukan: ['Artikel', 'Course', 'PDF', 'Slide', 'Video']\n",
            "   ✅ 'kesulitan' di-encode. Kelas yang ditemukan: ['Mudah', 'Sedang', 'Sulit']\n",
            "✅ Label encoders dibuat untuk 9 fitur: ['jurusan', 'device_preference', 'learning_style', 'goal', 'ketersediaan_belajar', 'mata_kuliah', 'platform', 'format', 'kesulitan']\n",
            "Contoh data setelah preprocessing:\n",
            "   id_interaksi id_mahasiswa id_konten          waktu_akses  durasi_tonton  \\\n",
            "0      INT0001       MHS248    KNT021  2025-02-19 21:38:10             32   \n",
            "1      INT0002       MHS040    KNT177  2024-12-26 00:29:45             28   \n",
            "2      INT0003       MHS185    KNT200  2024-12-24 06:19:14             15   \n",
            "3      INT0004       MHS129    KNT123  2025-05-13 16:16:16            100   \n",
            "4      INT0005       MHS127    KNT035  2025-05-03 14:41:30             82   \n",
            "\n",
            "          feedback  device         status  feedback_score  completion_score  \\\n",
            "0           Kurang  Laptop  Belum Selesai               2                 0   \n",
            "1  Sangat Membantu  Laptop  Belum Selesai               5                 0   \n",
            "2       Bermanfaat  Laptop        Selesai               4                 1   \n",
            "3       Bermanfaat  Tablet  Belum Selesai               4                 0   \n",
            "4       Bermanfaat  Tablet        Selesai               4                 1   \n",
            "\n",
            "   ...  rating_pengguna  jurusan_encoded device_preference_encoded  \\\n",
            "0  ...             3.47                0                         0   \n",
            "1  ...             2.84                4                         0   \n",
            "2  ...             3.10                4                         0   \n",
            "3  ...             4.87                1                         2   \n",
            "4  ...             4.48                4                         0   \n",
            "\n",
            "  learning_style_encoded  goal_encoded  ketersediaan_belajar_encoded  \\\n",
            "0                      2             2                             1   \n",
            "1                      0             0                             1   \n",
            "2                      1             0                             2   \n",
            "3                      1             0                             2   \n",
            "4                      0             1                             1   \n",
            "\n",
            "  mata_kuliah_encoded platform_encoded format_encoded  kesulitan_encoded  \n",
            "0                   4                1              2                  0  \n",
            "1                   3                2              3                  1  \n",
            "2                   0                3              4                  1  \n",
            "3                   2                0              3                  2  \n",
            "4                   0                2              3                  0  \n",
            "\n",
            "[5 rows x 37 columns]\n"
          ]
        }
      ],
      "source": [
        "### Label Encoding untuk fitur kategorikal\n",
        "print(\"🏷️ Mengkodekan fitur kategorikal (Label Encoding)...\")\n",
        "label_encoders = {}\n",
        "\n",
        "categorical_features_to_encode = [\n",
        "    'jurusan', 'device_preference', 'learning_style', 'goal', 'ketersediaan_belajar', \n",
        "    'mata_kuliah', 'platform', 'format', 'kesulitan' \n",
        "]\n",
        "\n",
        "if not full_data.empty:\n",
        "    for feature in categorical_features_to_encode:\n",
        "        if feature in full_data.columns:\n",
        "            le = LabelEncoder()\n",
        "           \n",
        "            full_data[f'{feature}_encoded'] = le.fit_transform(full_data[feature].astype(str))\n",
        "            label_encoders[feature] = le # Simpan encoder-nya\n",
        "            print(f\"   ✅ '{feature}' di-encode. Kelas yang ditemukan: {list(le.classes_)}\")\n",
        "        else:\n",
        "            print(f\"⚠️ Peringatan: Fitur '{feature}' tidak ditemukan di 'full_data' untuk di-encode. Akan dilewati.\")\n",
        "\n",
        "    print(f\"✅ Label encoders dibuat untuk {len(label_encoders)} fitur: {list(label_encoders.keys())}\")\n",
        "    print(f\"Contoh data setelah preprocessing:\\n {full_data.head()}\")\n",
        "else:\n",
        "    print(\"⚠️ 'full_data' kosong, tidak ada encoding yang dilakukan.\")"
      ]
    },
    {
      "cell_type": "markdown",
      "metadata": {
        "id": "rkw0UzpjFlc6"
      },
      "source": [
        "## 4. FEATURE ENGINEERING & SCALING untuk TensorFlow"
      ]
    },
    {
      "cell_type": "code",
      "execution_count": null,
      "metadata": {
        "colab": {
          "base_uri": "https://localhost:8080/"
        },
        "id": "30c81c0XFip6",
        "outputId": "3420fba5-a2f0-4bff-ea5d-b0948675b7df"
      },
      "outputs": [
        {
          "name": "stdout",
          "output_type": "stream",
          "text": [
            "\n",
            "⚙️ Menyiapkan Fitur & Normalisasi untuk TensorFlow...\n",
            "Fitur Kategorikal Pengguna (model): ['jurusan_encoded', 'device_preference_encoded', 'learning_style_encoded', 'goal_encoded', 'ketersediaan_belajar_encoded']\n",
            "Fitur Numerik Pengguna (model): ['ipk_terakhir', 'waktu_belajar_per_hari']\n",
            "Fitur Kategorikal Konten (model): ['mata_kuliah_encoded', 'platform_encoded', 'format_encoded', 'kesulitan_encoded']\n",
            "Fitur Numerik Konten (model): ['rating_pengguna']\n",
            "Fitur Numerik Interaksi (model): ['watch_ratio']\n",
            "✅ StandardScaler dibuat dan diterapkan pada fitur: ['ipk_terakhir', 'rating_pengguna', 'waktu_belajar_per_hari', 'watch_ratio']\n",
            "🎯 Variabel target untuk model: feedback_score\n"
          ]
        }
      ],
      "source": [
        "### Menyiapkan Fitur untuk Model TensorFlow (Feature Engineering & Scaling)\n",
        "if 'full_data' in locals() and not full_data.empty:\n",
        "    print(\"\\n⚙️ Menyiapkan Fitur & Normalisasi untuk TensorFlow...\")\n",
        "\n",
        "    user_categorical_tf_features = [f'{col}_encoded' for col in ['jurusan', 'device_preference', 'learning_style', 'goal', 'ketersediaan_belajar'] if f'{col}_encoded' in full_data.columns]\n",
        "    user_numerical_tf_features = ['ipk_terakhir', 'waktu_belajar_per_hari']\n",
        "\n",
        "    content_categorical_tf_features = [f'{col}_encoded' for col in ['mata_kuliah', 'platform', 'format', 'kesulitan'] if f'{col}_encoded' in full_data.columns]\n",
        "    content_numerical_tf_features = []\n",
        "    if 'durasi' in full_data.columns:\n",
        "        content_numerical_tf_features.append('durasi')\n",
        "    if 'rating_pengguna' in full_data.columns:\n",
        "        content_numerical_tf_features.append('rating_pengguna')\n",
        "\n",
        "    interaction_numerical_tf_features = []\n",
        "    if 'watch_ratio' in full_data.columns:\n",
        "        interaction_numerical_tf_features.append('watch_ratio')\n",
        "\n",
        "    print(f\"Fitur Kategorikal Pengguna (model): {user_categorical_tf_features}\")\n",
        "    print(f\"Fitur Numerik Pengguna (model): {user_numerical_tf_features}\")\n",
        "    print(f\"Fitur Kategorikal Konten (model): {content_categorical_tf_features}\")\n",
        "    print(f\"Fitur Numerik Konten (model): {content_numerical_tf_features}\")\n",
        "    print(f\"Fitur Numerik Interaksi (model): {interaction_numerical_tf_features}\")\n",
        "\n",
        "    scalers = {}\n",
        "\n",
        "    all_numerical_features_to_scale = user_numerical_tf_features + content_numerical_tf_features + interaction_numerical_tf_features\n",
        "    unique_numerical_features_to_scale = sorted(list(set([f for f in all_numerical_features_to_scale if f in full_data.columns])))\n",
        "\n",
        "    if unique_numerical_features_to_scale:\n",
        "        scaler = StandardScaler()\n",
        "        full_data[unique_numerical_features_to_scale] = scaler.fit_transform(full_data[unique_numerical_features_to_scale])\n",
        "        scalers['all_numerical'] = scaler\n",
        "        print(f\"✅ StandardScaler dibuat dan diterapkan pada fitur: {unique_numerical_features_to_scale}\")\n",
        "        scalers['all_numerical_feature_names_in_'] = unique_numerical_features_to_scale\n",
        "    else:\n",
        "        print(f\"⚠️ Tidak ada fitur numerik valid yang ditemukan untuk scaling. Scaler tidak dibuat.\")\n",
        "\n",
        "    target_variable = 'feedback_score'\n",
        "    if target_variable not in full_data.columns:\n",
        "        print(f\"❌ Variabel target '{target_variable}' tidak ditemukan! Model tidak bisa dilatih.\")\n",
        "        target_variable = None\n",
        "    else:\n",
        "        print(f\"🎯 Variabel target untuk model: {target_variable}\")\n",
        "else:\n",
        "    print(\"❌ 'full_data' kosong. Tidak bisa melanjutkan ke persiapan fitur.\")\n",
        "    user_categorical_tf_features, user_numerical_tf_features = [], []\n",
        "    content_categorical_tf_features, content_numerical_tf_features = [], []\n",
        "    interaction_numerical_tf_features = []\n",
        "    scalers = {}\n",
        "    target_variable = None"
      ]
    },
    {
      "cell_type": "markdown",
      "metadata": {
        "id": "9oqB1O-kMN2S"
      },
      "source": [
        "## 5. MODEL DEVELOPMENT (TensorFlow Hybrid Model)"
      ]
    },
    {
      "cell_type": "code",
      "execution_count": null,
      "metadata": {
        "colab": {
          "base_uri": "https://localhost:8080/",
          "height": 1000
        },
        "id": "rU_clz0lMO_K",
        "outputId": "82b39a21-8884-4f40-ac67-b247e2788f02"
      },
      "outputs": [
        {
          "name": "stdout",
          "output_type": "stream",
          "text": [
            "\n",
            "🤖 Membangun Model Rekomendasi Hybrid dengan TensorFlow...\n"
          ]
        },
        {
          "data": {
            "text/html": [
              "<pre style=\"white-space:pre;overflow-x:auto;line-height:normal;font-family:Menlo,'DejaVu Sans Mono',consolas,'Courier New',monospace\"><span style=\"font-weight: bold\">Model: \"functional\"</span>\n",
              "</pre>\n"
            ],
            "text/plain": [
              "\u001b[1mModel: \"functional\"\u001b[0m\n"
            ]
          },
          "metadata": {},
          "output_type": "display_data"
        },
        {
          "data": {
            "text/html": [
              "<pre style=\"white-space:pre;overflow-x:auto;line-height:normal;font-family:Menlo,'DejaVu Sans Mono',consolas,'Courier New',monospace\">┏━━━━━━━━━━━━━━━━━━━━━┳━━━━━━━━━━━━━━━━━━━┳━━━━━━━━━━━━┳━━━━━━━━━━━━━━━━━━━┓\n",
              "┃<span style=\"font-weight: bold\"> Layer (type)        </span>┃<span style=\"font-weight: bold\"> Output Shape      </span>┃<span style=\"font-weight: bold\">    Param # </span>┃<span style=\"font-weight: bold\"> Connected to      </span>┃\n",
              "┡━━━━━━━━━━━━━━━━━━━━━╇━━━━━━━━━━━━━━━━━━━╇━━━━━━━━━━━━╇━━━━━━━━━━━━━━━━━━━┩\n",
              "│ user_jurusan_encod… │ (<span style=\"color: #00d7ff; text-decoration-color: #00d7ff\">None</span>, <span style=\"color: #00af00; text-decoration-color: #00af00\">1</span>)         │          <span style=\"color: #00af00; text-decoration-color: #00af00\">0</span> │ -                 │\n",
              "│ (<span style=\"color: #0087ff; text-decoration-color: #0087ff\">InputLayer</span>)        │                   │            │                   │\n",
              "├─────────────────────┼───────────────────┼────────────┼───────────────────┤\n",
              "│ user_device_prefer… │ (<span style=\"color: #00d7ff; text-decoration-color: #00d7ff\">None</span>, <span style=\"color: #00af00; text-decoration-color: #00af00\">1</span>)         │          <span style=\"color: #00af00; text-decoration-color: #00af00\">0</span> │ -                 │\n",
              "│ (<span style=\"color: #0087ff; text-decoration-color: #0087ff\">InputLayer</span>)        │                   │            │                   │\n",
              "├─────────────────────┼───────────────────┼────────────┼───────────────────┤\n",
              "│ user_learning_styl… │ (<span style=\"color: #00d7ff; text-decoration-color: #00d7ff\">None</span>, <span style=\"color: #00af00; text-decoration-color: #00af00\">1</span>)         │          <span style=\"color: #00af00; text-decoration-color: #00af00\">0</span> │ -                 │\n",
              "│ (<span style=\"color: #0087ff; text-decoration-color: #0087ff\">InputLayer</span>)        │                   │            │                   │\n",
              "├─────────────────────┼───────────────────┼────────────┼───────────────────┤\n",
              "│ user_goal_encoded   │ (<span style=\"color: #00d7ff; text-decoration-color: #00d7ff\">None</span>, <span style=\"color: #00af00; text-decoration-color: #00af00\">1</span>)         │          <span style=\"color: #00af00; text-decoration-color: #00af00\">0</span> │ -                 │\n",
              "│ (<span style=\"color: #0087ff; text-decoration-color: #0087ff\">InputLayer</span>)        │                   │            │                   │\n",
              "├─────────────────────┼───────────────────┼────────────┼───────────────────┤\n",
              "│ user_ketersediaan_… │ (<span style=\"color: #00d7ff; text-decoration-color: #00d7ff\">None</span>, <span style=\"color: #00af00; text-decoration-color: #00af00\">1</span>)         │          <span style=\"color: #00af00; text-decoration-color: #00af00\">0</span> │ -                 │\n",
              "│ (<span style=\"color: #0087ff; text-decoration-color: #0087ff\">InputLayer</span>)        │                   │            │                   │\n",
              "├─────────────────────┼───────────────────┼────────────┼───────────────────┤\n",
              "│ content_mata_kulia… │ (<span style=\"color: #00d7ff; text-decoration-color: #00d7ff\">None</span>, <span style=\"color: #00af00; text-decoration-color: #00af00\">1</span>)         │          <span style=\"color: #00af00; text-decoration-color: #00af00\">0</span> │ -                 │\n",
              "│ (<span style=\"color: #0087ff; text-decoration-color: #0087ff\">InputLayer</span>)        │                   │            │                   │\n",
              "├─────────────────────┼───────────────────┼────────────┼───────────────────┤\n",
              "│ content_platform_e… │ (<span style=\"color: #00d7ff; text-decoration-color: #00d7ff\">None</span>, <span style=\"color: #00af00; text-decoration-color: #00af00\">1</span>)         │          <span style=\"color: #00af00; text-decoration-color: #00af00\">0</span> │ -                 │\n",
              "│ (<span style=\"color: #0087ff; text-decoration-color: #0087ff\">InputLayer</span>)        │                   │            │                   │\n",
              "├─────────────────────┼───────────────────┼────────────┼───────────────────┤\n",
              "│ content_format_enc… │ (<span style=\"color: #00d7ff; text-decoration-color: #00d7ff\">None</span>, <span style=\"color: #00af00; text-decoration-color: #00af00\">1</span>)         │          <span style=\"color: #00af00; text-decoration-color: #00af00\">0</span> │ -                 │\n",
              "│ (<span style=\"color: #0087ff; text-decoration-color: #0087ff\">InputLayer</span>)        │                   │            │                   │\n",
              "├─────────────────────┼───────────────────┼────────────┼───────────────────┤\n",
              "│ content_kesulitan_… │ (<span style=\"color: #00d7ff; text-decoration-color: #00d7ff\">None</span>, <span style=\"color: #00af00; text-decoration-color: #00af00\">1</span>)         │          <span style=\"color: #00af00; text-decoration-color: #00af00\">0</span> │ -                 │\n",
              "│ (<span style=\"color: #0087ff; text-decoration-color: #0087ff\">InputLayer</span>)        │                   │            │                   │\n",
              "├─────────────────────┼───────────────────┼────────────┼───────────────────┤\n",
              "│ user_embedding_jur… │ (<span style=\"color: #00d7ff; text-decoration-color: #00d7ff\">None</span>, <span style=\"color: #00af00; text-decoration-color: #00af00\">1</span>, <span style=\"color: #00af00; text-decoration-color: #00af00\">16</span>)     │         <span style=\"color: #00af00; text-decoration-color: #00af00\">96</span> │ user_jurusan_enc… │\n",
              "│ (<span style=\"color: #0087ff; text-decoration-color: #0087ff\">Embedding</span>)         │                   │            │                   │\n",
              "├─────────────────────┼───────────────────┼────────────┼───────────────────┤\n",
              "│ user_embedding_dev… │ (<span style=\"color: #00d7ff; text-decoration-color: #00d7ff\">None</span>, <span style=\"color: #00af00; text-decoration-color: #00af00\">1</span>, <span style=\"color: #00af00; text-decoration-color: #00af00\">16</span>)     │         <span style=\"color: #00af00; text-decoration-color: #00af00\">64</span> │ user_device_pref… │\n",
              "│ (<span style=\"color: #0087ff; text-decoration-color: #0087ff\">Embedding</span>)         │                   │            │                   │\n",
              "├─────────────────────┼───────────────────┼────────────┼───────────────────┤\n",
              "│ user_embedding_lea… │ (<span style=\"color: #00d7ff; text-decoration-color: #00d7ff\">None</span>, <span style=\"color: #00af00; text-decoration-color: #00af00\">1</span>, <span style=\"color: #00af00; text-decoration-color: #00af00\">16</span>)     │         <span style=\"color: #00af00; text-decoration-color: #00af00\">64</span> │ user_learning_st… │\n",
              "│ (<span style=\"color: #0087ff; text-decoration-color: #0087ff\">Embedding</span>)         │                   │            │                   │\n",
              "├─────────────────────┼───────────────────┼────────────┼───────────────────┤\n",
              "│ user_embedding_goa… │ (<span style=\"color: #00d7ff; text-decoration-color: #00d7ff\">None</span>, <span style=\"color: #00af00; text-decoration-color: #00af00\">1</span>, <span style=\"color: #00af00; text-decoration-color: #00af00\">16</span>)     │         <span style=\"color: #00af00; text-decoration-color: #00af00\">64</span> │ user_goal_encode… │\n",
              "│ (<span style=\"color: #0087ff; text-decoration-color: #0087ff\">Embedding</span>)         │                   │            │                   │\n",
              "├─────────────────────┼───────────────────┼────────────┼───────────────────┤\n",
              "│ user_embedding_ket… │ (<span style=\"color: #00d7ff; text-decoration-color: #00d7ff\">None</span>, <span style=\"color: #00af00; text-decoration-color: #00af00\">1</span>, <span style=\"color: #00af00; text-decoration-color: #00af00\">16</span>)     │         <span style=\"color: #00af00; text-decoration-color: #00af00\">64</span> │ user_ketersediaa… │\n",
              "│ (<span style=\"color: #0087ff; text-decoration-color: #0087ff\">Embedding</span>)         │                   │            │                   │\n",
              "├─────────────────────┼───────────────────┼────────────┼───────────────────┤\n",
              "│ content_embedding_… │ (<span style=\"color: #00d7ff; text-decoration-color: #00d7ff\">None</span>, <span style=\"color: #00af00; text-decoration-color: #00af00\">1</span>, <span style=\"color: #00af00; text-decoration-color: #00af00\">16</span>)     │         <span style=\"color: #00af00; text-decoration-color: #00af00\">96</span> │ content_mata_kul… │\n",
              "│ (<span style=\"color: #0087ff; text-decoration-color: #0087ff\">Embedding</span>)         │                   │            │                   │\n",
              "├─────────────────────┼───────────────────┼────────────┼───────────────────┤\n",
              "│ content_embedding_… │ (<span style=\"color: #00d7ff; text-decoration-color: #00d7ff\">None</span>, <span style=\"color: #00af00; text-decoration-color: #00af00\">1</span>, <span style=\"color: #00af00; text-decoration-color: #00af00\">16</span>)     │         <span style=\"color: #00af00; text-decoration-color: #00af00\">96</span> │ content_platform… │\n",
              "│ (<span style=\"color: #0087ff; text-decoration-color: #0087ff\">Embedding</span>)         │                   │            │                   │\n",
              "├─────────────────────┼───────────────────┼────────────┼───────────────────┤\n",
              "│ content_embedding_… │ (<span style=\"color: #00d7ff; text-decoration-color: #00d7ff\">None</span>, <span style=\"color: #00af00; text-decoration-color: #00af00\">1</span>, <span style=\"color: #00af00; text-decoration-color: #00af00\">16</span>)     │         <span style=\"color: #00af00; text-decoration-color: #00af00\">96</span> │ content_format_e… │\n",
              "│ (<span style=\"color: #0087ff; text-decoration-color: #0087ff\">Embedding</span>)         │                   │            │                   │\n",
              "├─────────────────────┼───────────────────┼────────────┼───────────────────┤\n",
              "│ content_embedding_… │ (<span style=\"color: #00d7ff; text-decoration-color: #00d7ff\">None</span>, <span style=\"color: #00af00; text-decoration-color: #00af00\">1</span>, <span style=\"color: #00af00; text-decoration-color: #00af00\">16</span>)     │         <span style=\"color: #00af00; text-decoration-color: #00af00\">64</span> │ content_kesulita… │\n",
              "│ (<span style=\"color: #0087ff; text-decoration-color: #0087ff\">Embedding</span>)         │                   │            │                   │\n",
              "├─────────────────────┼───────────────────┼────────────┼───────────────────┤\n",
              "│ flatten (<span style=\"color: #0087ff; text-decoration-color: #0087ff\">Flatten</span>)   │ (<span style=\"color: #00d7ff; text-decoration-color: #00d7ff\">None</span>, <span style=\"color: #00af00; text-decoration-color: #00af00\">16</span>)        │          <span style=\"color: #00af00; text-decoration-color: #00af00\">0</span> │ user_embedding_j… │\n",
              "├─────────────────────┼───────────────────┼────────────┼───────────────────┤\n",
              "│ flatten_1 (<span style=\"color: #0087ff; text-decoration-color: #0087ff\">Flatten</span>) │ (<span style=\"color: #00d7ff; text-decoration-color: #00d7ff\">None</span>, <span style=\"color: #00af00; text-decoration-color: #00af00\">16</span>)        │          <span style=\"color: #00af00; text-decoration-color: #00af00\">0</span> │ user_embedding_d… │\n",
              "├─────────────────────┼───────────────────┼────────────┼───────────────────┤\n",
              "│ flatten_2 (<span style=\"color: #0087ff; text-decoration-color: #0087ff\">Flatten</span>) │ (<span style=\"color: #00d7ff; text-decoration-color: #00d7ff\">None</span>, <span style=\"color: #00af00; text-decoration-color: #00af00\">16</span>)        │          <span style=\"color: #00af00; text-decoration-color: #00af00\">0</span> │ user_embedding_l… │\n",
              "├─────────────────────┼───────────────────┼────────────┼───────────────────┤\n",
              "│ flatten_3 (<span style=\"color: #0087ff; text-decoration-color: #0087ff\">Flatten</span>) │ (<span style=\"color: #00d7ff; text-decoration-color: #00d7ff\">None</span>, <span style=\"color: #00af00; text-decoration-color: #00af00\">16</span>)        │          <span style=\"color: #00af00; text-decoration-color: #00af00\">0</span> │ user_embedding_g… │\n",
              "├─────────────────────┼───────────────────┼────────────┼───────────────────┤\n",
              "│ flatten_4 (<span style=\"color: #0087ff; text-decoration-color: #0087ff\">Flatten</span>) │ (<span style=\"color: #00d7ff; text-decoration-color: #00d7ff\">None</span>, <span style=\"color: #00af00; text-decoration-color: #00af00\">16</span>)        │          <span style=\"color: #00af00; text-decoration-color: #00af00\">0</span> │ user_embedding_k… │\n",
              "├─────────────────────┼───────────────────┼────────────┼───────────────────┤\n",
              "│ user_combined_nume… │ (<span style=\"color: #00d7ff; text-decoration-color: #00d7ff\">None</span>, <span style=\"color: #00af00; text-decoration-color: #00af00\">3</span>)         │          <span style=\"color: #00af00; text-decoration-color: #00af00\">0</span> │ -                 │\n",
              "│ (<span style=\"color: #0087ff; text-decoration-color: #0087ff\">InputLayer</span>)        │                   │            │                   │\n",
              "├─────────────────────┼───────────────────┼────────────┼───────────────────┤\n",
              "│ flatten_5 (<span style=\"color: #0087ff; text-decoration-color: #0087ff\">Flatten</span>) │ (<span style=\"color: #00d7ff; text-decoration-color: #00d7ff\">None</span>, <span style=\"color: #00af00; text-decoration-color: #00af00\">16</span>)        │          <span style=\"color: #00af00; text-decoration-color: #00af00\">0</span> │ content_embeddin… │\n",
              "├─────────────────────┼───────────────────┼────────────┼───────────────────┤\n",
              "│ flatten_6 (<span style=\"color: #0087ff; text-decoration-color: #0087ff\">Flatten</span>) │ (<span style=\"color: #00d7ff; text-decoration-color: #00d7ff\">None</span>, <span style=\"color: #00af00; text-decoration-color: #00af00\">16</span>)        │          <span style=\"color: #00af00; text-decoration-color: #00af00\">0</span> │ content_embeddin… │\n",
              "├─────────────────────┼───────────────────┼────────────┼───────────────────┤\n",
              "│ flatten_7 (<span style=\"color: #0087ff; text-decoration-color: #0087ff\">Flatten</span>) │ (<span style=\"color: #00d7ff; text-decoration-color: #00d7ff\">None</span>, <span style=\"color: #00af00; text-decoration-color: #00af00\">16</span>)        │          <span style=\"color: #00af00; text-decoration-color: #00af00\">0</span> │ content_embeddin… │\n",
              "├─────────────────────┼───────────────────┼────────────┼───────────────────┤\n",
              "│ flatten_8 (<span style=\"color: #0087ff; text-decoration-color: #0087ff\">Flatten</span>) │ (<span style=\"color: #00d7ff; text-decoration-color: #00d7ff\">None</span>, <span style=\"color: #00af00; text-decoration-color: #00af00\">16</span>)        │          <span style=\"color: #00af00; text-decoration-color: #00af00\">0</span> │ content_embeddin… │\n",
              "├─────────────────────┼───────────────────┼────────────┼───────────────────┤\n",
              "│ content_numerical_… │ (<span style=\"color: #00d7ff; text-decoration-color: #00d7ff\">None</span>, <span style=\"color: #00af00; text-decoration-color: #00af00\">1</span>)         │          <span style=\"color: #00af00; text-decoration-color: #00af00\">0</span> │ -                 │\n",
              "│ (<span style=\"color: #0087ff; text-decoration-color: #0087ff\">InputLayer</span>)        │                   │            │                   │\n",
              "├─────────────────────┼───────────────────┼────────────┼───────────────────┤\n",
              "│ concat_user_featur… │ (<span style=\"color: #00d7ff; text-decoration-color: #00d7ff\">None</span>, <span style=\"color: #00af00; text-decoration-color: #00af00\">83</span>)        │          <span style=\"color: #00af00; text-decoration-color: #00af00\">0</span> │ flatten[<span style=\"color: #00af00; text-decoration-color: #00af00\">0</span>][<span style=\"color: #00af00; text-decoration-color: #00af00\">0</span>],    │\n",
              "│ (<span style=\"color: #0087ff; text-decoration-color: #0087ff\">Concatenate</span>)       │                   │            │ flatten_1[<span style=\"color: #00af00; text-decoration-color: #00af00\">0</span>][<span style=\"color: #00af00; text-decoration-color: #00af00\">0</span>],  │\n",
              "│                     │                   │            │ flatten_2[<span style=\"color: #00af00; text-decoration-color: #00af00\">0</span>][<span style=\"color: #00af00; text-decoration-color: #00af00\">0</span>],  │\n",
              "│                     │                   │            │ flatten_3[<span style=\"color: #00af00; text-decoration-color: #00af00\">0</span>][<span style=\"color: #00af00; text-decoration-color: #00af00\">0</span>],  │\n",
              "│                     │                   │            │ flatten_4[<span style=\"color: #00af00; text-decoration-color: #00af00\">0</span>][<span style=\"color: #00af00; text-decoration-color: #00af00\">0</span>],  │\n",
              "│                     │                   │            │ user_combined_nu… │\n",
              "├─────────────────────┼───────────────────┼────────────┼───────────────────┤\n",
              "│ concat_content_fea… │ (<span style=\"color: #00d7ff; text-decoration-color: #00d7ff\">None</span>, <span style=\"color: #00af00; text-decoration-color: #00af00\">65</span>)        │          <span style=\"color: #00af00; text-decoration-color: #00af00\">0</span> │ flatten_5[<span style=\"color: #00af00; text-decoration-color: #00af00\">0</span>][<span style=\"color: #00af00; text-decoration-color: #00af00\">0</span>],  │\n",
              "│ (<span style=\"color: #0087ff; text-decoration-color: #0087ff\">Concatenate</span>)       │                   │            │ flatten_6[<span style=\"color: #00af00; text-decoration-color: #00af00\">0</span>][<span style=\"color: #00af00; text-decoration-color: #00af00\">0</span>],  │\n",
              "│                     │                   │            │ flatten_7[<span style=\"color: #00af00; text-decoration-color: #00af00\">0</span>][<span style=\"color: #00af00; text-decoration-color: #00af00\">0</span>],  │\n",
              "│                     │                   │            │ flatten_8[<span style=\"color: #00af00; text-decoration-color: #00af00\">0</span>][<span style=\"color: #00af00; text-decoration-color: #00af00\">0</span>],  │\n",
              "│                     │                   │            │ content_numerica… │\n",
              "├─────────────────────┼───────────────────┼────────────┼───────────────────┤\n",
              "│ user_dense_1        │ (<span style=\"color: #00d7ff; text-decoration-color: #00d7ff\">None</span>, <span style=\"color: #00af00; text-decoration-color: #00af00\">64</span>)        │      <span style=\"color: #00af00; text-decoration-color: #00af00\">5,376</span> │ concat_user_feat… │\n",
              "│ (<span style=\"color: #0087ff; text-decoration-color: #0087ff\">Dense</span>)             │                   │            │                   │\n",
              "├─────────────────────┼───────────────────┼────────────┼───────────────────┤\n",
              "│ content_dense_1     │ (<span style=\"color: #00d7ff; text-decoration-color: #00d7ff\">None</span>, <span style=\"color: #00af00; text-decoration-color: #00af00\">64</span>)        │      <span style=\"color: #00af00; text-decoration-color: #00af00\">4,224</span> │ concat_content_f… │\n",
              "│ (<span style=\"color: #0087ff; text-decoration-color: #0087ff\">Dense</span>)             │                   │            │                   │\n",
              "├─────────────────────┼───────────────────┼────────────┼───────────────────┤\n",
              "│ user_dropout        │ (<span style=\"color: #00d7ff; text-decoration-color: #00d7ff\">None</span>, <span style=\"color: #00af00; text-decoration-color: #00af00\">64</span>)        │          <span style=\"color: #00af00; text-decoration-color: #00af00\">0</span> │ user_dense_1[<span style=\"color: #00af00; text-decoration-color: #00af00\">0</span>][<span style=\"color: #00af00; text-decoration-color: #00af00\">…</span> │\n",
              "│ (<span style=\"color: #0087ff; text-decoration-color: #0087ff\">Dropout</span>)           │                   │            │                   │\n",
              "├─────────────────────┼───────────────────┼────────────┼───────────────────┤\n",
              "│ content_dropout     │ (<span style=\"color: #00d7ff; text-decoration-color: #00d7ff\">None</span>, <span style=\"color: #00af00; text-decoration-color: #00af00\">64</span>)        │          <span style=\"color: #00af00; text-decoration-color: #00af00\">0</span> │ content_dense_1[<span style=\"color: #00af00; text-decoration-color: #00af00\">…</span> │\n",
              "│ (<span style=\"color: #0087ff; text-decoration-color: #0087ff\">Dropout</span>)           │                   │            │                   │\n",
              "├─────────────────────┼───────────────────┼────────────┼───────────────────┤\n",
              "│ user_dense_2        │ (<span style=\"color: #00d7ff; text-decoration-color: #00d7ff\">None</span>, <span style=\"color: #00af00; text-decoration-color: #00af00\">32</span>)        │      <span style=\"color: #00af00; text-decoration-color: #00af00\">2,080</span> │ user_dropout[<span style=\"color: #00af00; text-decoration-color: #00af00\">0</span>][<span style=\"color: #00af00; text-decoration-color: #00af00\">…</span> │\n",
              "│ (<span style=\"color: #0087ff; text-decoration-color: #0087ff\">Dense</span>)             │                   │            │                   │\n",
              "├─────────────────────┼───────────────────┼────────────┼───────────────────┤\n",
              "│ content_dense_2     │ (<span style=\"color: #00d7ff; text-decoration-color: #00d7ff\">None</span>, <span style=\"color: #00af00; text-decoration-color: #00af00\">32</span>)        │      <span style=\"color: #00af00; text-decoration-color: #00af00\">2,080</span> │ content_dropout[<span style=\"color: #00af00; text-decoration-color: #00af00\">…</span> │\n",
              "│ (<span style=\"color: #0087ff; text-decoration-color: #0087ff\">Dense</span>)             │                   │            │                   │\n",
              "├─────────────────────┼───────────────────┼────────────┼───────────────────┤\n",
              "│ concat_user_content │ (<span style=\"color: #00d7ff; text-decoration-color: #00d7ff\">None</span>, <span style=\"color: #00af00; text-decoration-color: #00af00\">64</span>)        │          <span style=\"color: #00af00; text-decoration-color: #00af00\">0</span> │ user_dense_2[<span style=\"color: #00af00; text-decoration-color: #00af00\">0</span>][<span style=\"color: #00af00; text-decoration-color: #00af00\">…</span> │\n",
              "│ (<span style=\"color: #0087ff; text-decoration-color: #0087ff\">Concatenate</span>)       │                   │            │ content_dense_2[<span style=\"color: #00af00; text-decoration-color: #00af00\">…</span> │\n",
              "├─────────────────────┼───────────────────┼────────────┼───────────────────┤\n",
              "│ combined_dense_1    │ (<span style=\"color: #00d7ff; text-decoration-color: #00d7ff\">None</span>, <span style=\"color: #00af00; text-decoration-color: #00af00\">64</span>)        │      <span style=\"color: #00af00; text-decoration-color: #00af00\">4,160</span> │ concat_user_cont… │\n",
              "│ (<span style=\"color: #0087ff; text-decoration-color: #0087ff\">Dense</span>)             │                   │            │                   │\n",
              "├─────────────────────┼───────────────────┼────────────┼───────────────────┤\n",
              "│ combined_dropout    │ (<span style=\"color: #00d7ff; text-decoration-color: #00d7ff\">None</span>, <span style=\"color: #00af00; text-decoration-color: #00af00\">64</span>)        │          <span style=\"color: #00af00; text-decoration-color: #00af00\">0</span> │ combined_dense_1… │\n",
              "│ (<span style=\"color: #0087ff; text-decoration-color: #0087ff\">Dropout</span>)           │                   │            │                   │\n",
              "├─────────────────────┼───────────────────┼────────────┼───────────────────┤\n",
              "│ feedback_score_out… │ (<span style=\"color: #00d7ff; text-decoration-color: #00d7ff\">None</span>, <span style=\"color: #00af00; text-decoration-color: #00af00\">1</span>)         │         <span style=\"color: #00af00; text-decoration-color: #00af00\">65</span> │ combined_dropout… │\n",
              "│ (<span style=\"color: #0087ff; text-decoration-color: #0087ff\">Dense</span>)             │                   │            │                   │\n",
              "└─────────────────────┴───────────────────┴────────────┴───────────────────┘\n",
              "</pre>\n"
            ],
            "text/plain": [
              "┏━━━━━━━━━━━━━━━━━━━━━┳━━━━━━━━━━━━━━━━━━━┳━━━━━━━━━━━━┳━━━━━━━━━━━━━━━━━━━┓\n",
              "┃\u001b[1m \u001b[0m\u001b[1mLayer (type)       \u001b[0m\u001b[1m \u001b[0m┃\u001b[1m \u001b[0m\u001b[1mOutput Shape     \u001b[0m\u001b[1m \u001b[0m┃\u001b[1m \u001b[0m\u001b[1m   Param #\u001b[0m\u001b[1m \u001b[0m┃\u001b[1m \u001b[0m\u001b[1mConnected to     \u001b[0m\u001b[1m \u001b[0m┃\n",
              "┡━━━━━━━━━━━━━━━━━━━━━╇━━━━━━━━━━━━━━━━━━━╇━━━━━━━━━━━━╇━━━━━━━━━━━━━━━━━━━┩\n",
              "│ user_jurusan_encod… │ (\u001b[38;5;45mNone\u001b[0m, \u001b[38;5;34m1\u001b[0m)         │          \u001b[38;5;34m0\u001b[0m │ -                 │\n",
              "│ (\u001b[38;5;33mInputLayer\u001b[0m)        │                   │            │                   │\n",
              "├─────────────────────┼───────────────────┼────────────┼───────────────────┤\n",
              "│ user_device_prefer… │ (\u001b[38;5;45mNone\u001b[0m, \u001b[38;5;34m1\u001b[0m)         │          \u001b[38;5;34m0\u001b[0m │ -                 │\n",
              "│ (\u001b[38;5;33mInputLayer\u001b[0m)        │                   │            │                   │\n",
              "├─────────────────────┼───────────────────┼────────────┼───────────────────┤\n",
              "│ user_learning_styl… │ (\u001b[38;5;45mNone\u001b[0m, \u001b[38;5;34m1\u001b[0m)         │          \u001b[38;5;34m0\u001b[0m │ -                 │\n",
              "│ (\u001b[38;5;33mInputLayer\u001b[0m)        │                   │            │                   │\n",
              "├─────────────────────┼───────────────────┼────────────┼───────────────────┤\n",
              "│ user_goal_encoded   │ (\u001b[38;5;45mNone\u001b[0m, \u001b[38;5;34m1\u001b[0m)         │          \u001b[38;5;34m0\u001b[0m │ -                 │\n",
              "│ (\u001b[38;5;33mInputLayer\u001b[0m)        │                   │            │                   │\n",
              "├─────────────────────┼───────────────────┼────────────┼───────────────────┤\n",
              "│ user_ketersediaan_… │ (\u001b[38;5;45mNone\u001b[0m, \u001b[38;5;34m1\u001b[0m)         │          \u001b[38;5;34m0\u001b[0m │ -                 │\n",
              "│ (\u001b[38;5;33mInputLayer\u001b[0m)        │                   │            │                   │\n",
              "├─────────────────────┼───────────────────┼────────────┼───────────────────┤\n",
              "│ content_mata_kulia… │ (\u001b[38;5;45mNone\u001b[0m, \u001b[38;5;34m1\u001b[0m)         │          \u001b[38;5;34m0\u001b[0m │ -                 │\n",
              "│ (\u001b[38;5;33mInputLayer\u001b[0m)        │                   │            │                   │\n",
              "├─────────────────────┼───────────────────┼────────────┼───────────────────┤\n",
              "│ content_platform_e… │ (\u001b[38;5;45mNone\u001b[0m, \u001b[38;5;34m1\u001b[0m)         │          \u001b[38;5;34m0\u001b[0m │ -                 │\n",
              "│ (\u001b[38;5;33mInputLayer\u001b[0m)        │                   │            │                   │\n",
              "├─────────────────────┼───────────────────┼────────────┼───────────────────┤\n",
              "│ content_format_enc… │ (\u001b[38;5;45mNone\u001b[0m, \u001b[38;5;34m1\u001b[0m)         │          \u001b[38;5;34m0\u001b[0m │ -                 │\n",
              "│ (\u001b[38;5;33mInputLayer\u001b[0m)        │                   │            │                   │\n",
              "├─────────────────────┼───────────────────┼────────────┼───────────────────┤\n",
              "│ content_kesulitan_… │ (\u001b[38;5;45mNone\u001b[0m, \u001b[38;5;34m1\u001b[0m)         │          \u001b[38;5;34m0\u001b[0m │ -                 │\n",
              "│ (\u001b[38;5;33mInputLayer\u001b[0m)        │                   │            │                   │\n",
              "├─────────────────────┼───────────────────┼────────────┼───────────────────┤\n",
              "│ user_embedding_jur… │ (\u001b[38;5;45mNone\u001b[0m, \u001b[38;5;34m1\u001b[0m, \u001b[38;5;34m16\u001b[0m)     │         \u001b[38;5;34m96\u001b[0m │ user_jurusan_enc… │\n",
              "│ (\u001b[38;5;33mEmbedding\u001b[0m)         │                   │            │                   │\n",
              "├─────────────────────┼───────────────────┼────────────┼───────────────────┤\n",
              "│ user_embedding_dev… │ (\u001b[38;5;45mNone\u001b[0m, \u001b[38;5;34m1\u001b[0m, \u001b[38;5;34m16\u001b[0m)     │         \u001b[38;5;34m64\u001b[0m │ user_device_pref… │\n",
              "│ (\u001b[38;5;33mEmbedding\u001b[0m)         │                   │            │                   │\n",
              "├─────────────────────┼───────────────────┼────────────┼───────────────────┤\n",
              "│ user_embedding_lea… │ (\u001b[38;5;45mNone\u001b[0m, \u001b[38;5;34m1\u001b[0m, \u001b[38;5;34m16\u001b[0m)     │         \u001b[38;5;34m64\u001b[0m │ user_learning_st… │\n",
              "│ (\u001b[38;5;33mEmbedding\u001b[0m)         │                   │            │                   │\n",
              "├─────────────────────┼───────────────────┼────────────┼───────────────────┤\n",
              "│ user_embedding_goa… │ (\u001b[38;5;45mNone\u001b[0m, \u001b[38;5;34m1\u001b[0m, \u001b[38;5;34m16\u001b[0m)     │         \u001b[38;5;34m64\u001b[0m │ user_goal_encode… │\n",
              "│ (\u001b[38;5;33mEmbedding\u001b[0m)         │                   │            │                   │\n",
              "├─────────────────────┼───────────────────┼────────────┼───────────────────┤\n",
              "│ user_embedding_ket… │ (\u001b[38;5;45mNone\u001b[0m, \u001b[38;5;34m1\u001b[0m, \u001b[38;5;34m16\u001b[0m)     │         \u001b[38;5;34m64\u001b[0m │ user_ketersediaa… │\n",
              "│ (\u001b[38;5;33mEmbedding\u001b[0m)         │                   │            │                   │\n",
              "├─────────────────────┼───────────────────┼────────────┼───────────────────┤\n",
              "│ content_embedding_… │ (\u001b[38;5;45mNone\u001b[0m, \u001b[38;5;34m1\u001b[0m, \u001b[38;5;34m16\u001b[0m)     │         \u001b[38;5;34m96\u001b[0m │ content_mata_kul… │\n",
              "│ (\u001b[38;5;33mEmbedding\u001b[0m)         │                   │            │                   │\n",
              "├─────────────────────┼───────────────────┼────────────┼───────────────────┤\n",
              "│ content_embedding_… │ (\u001b[38;5;45mNone\u001b[0m, \u001b[38;5;34m1\u001b[0m, \u001b[38;5;34m16\u001b[0m)     │         \u001b[38;5;34m96\u001b[0m │ content_platform… │\n",
              "│ (\u001b[38;5;33mEmbedding\u001b[0m)         │                   │            │                   │\n",
              "├─────────────────────┼───────────────────┼────────────┼───────────────────┤\n",
              "│ content_embedding_… │ (\u001b[38;5;45mNone\u001b[0m, \u001b[38;5;34m1\u001b[0m, \u001b[38;5;34m16\u001b[0m)     │         \u001b[38;5;34m96\u001b[0m │ content_format_e… │\n",
              "│ (\u001b[38;5;33mEmbedding\u001b[0m)         │                   │            │                   │\n",
              "├─────────────────────┼───────────────────┼────────────┼───────────────────┤\n",
              "│ content_embedding_… │ (\u001b[38;5;45mNone\u001b[0m, \u001b[38;5;34m1\u001b[0m, \u001b[38;5;34m16\u001b[0m)     │         \u001b[38;5;34m64\u001b[0m │ content_kesulita… │\n",
              "│ (\u001b[38;5;33mEmbedding\u001b[0m)         │                   │            │                   │\n",
              "├─────────────────────┼───────────────────┼────────────┼───────────────────┤\n",
              "│ flatten (\u001b[38;5;33mFlatten\u001b[0m)   │ (\u001b[38;5;45mNone\u001b[0m, \u001b[38;5;34m16\u001b[0m)        │          \u001b[38;5;34m0\u001b[0m │ user_embedding_j… │\n",
              "├─────────────────────┼───────────────────┼────────────┼───────────────────┤\n",
              "│ flatten_1 (\u001b[38;5;33mFlatten\u001b[0m) │ (\u001b[38;5;45mNone\u001b[0m, \u001b[38;5;34m16\u001b[0m)        │          \u001b[38;5;34m0\u001b[0m │ user_embedding_d… │\n",
              "├─────────────────────┼───────────────────┼────────────┼───────────────────┤\n",
              "│ flatten_2 (\u001b[38;5;33mFlatten\u001b[0m) │ (\u001b[38;5;45mNone\u001b[0m, \u001b[38;5;34m16\u001b[0m)        │          \u001b[38;5;34m0\u001b[0m │ user_embedding_l… │\n",
              "├─────────────────────┼───────────────────┼────────────┼───────────────────┤\n",
              "│ flatten_3 (\u001b[38;5;33mFlatten\u001b[0m) │ (\u001b[38;5;45mNone\u001b[0m, \u001b[38;5;34m16\u001b[0m)        │          \u001b[38;5;34m0\u001b[0m │ user_embedding_g… │\n",
              "├─────────────────────┼───────────────────┼────────────┼───────────────────┤\n",
              "│ flatten_4 (\u001b[38;5;33mFlatten\u001b[0m) │ (\u001b[38;5;45mNone\u001b[0m, \u001b[38;5;34m16\u001b[0m)        │          \u001b[38;5;34m0\u001b[0m │ user_embedding_k… │\n",
              "├─────────────────────┼───────────────────┼────────────┼───────────────────┤\n",
              "│ user_combined_nume… │ (\u001b[38;5;45mNone\u001b[0m, \u001b[38;5;34m3\u001b[0m)         │          \u001b[38;5;34m0\u001b[0m │ -                 │\n",
              "│ (\u001b[38;5;33mInputLayer\u001b[0m)        │                   │            │                   │\n",
              "├─────────────────────┼───────────────────┼────────────┼───────────────────┤\n",
              "│ flatten_5 (\u001b[38;5;33mFlatten\u001b[0m) │ (\u001b[38;5;45mNone\u001b[0m, \u001b[38;5;34m16\u001b[0m)        │          \u001b[38;5;34m0\u001b[0m │ content_embeddin… │\n",
              "├─────────────────────┼───────────────────┼────────────┼───────────────────┤\n",
              "│ flatten_6 (\u001b[38;5;33mFlatten\u001b[0m) │ (\u001b[38;5;45mNone\u001b[0m, \u001b[38;5;34m16\u001b[0m)        │          \u001b[38;5;34m0\u001b[0m │ content_embeddin… │\n",
              "├─────────────────────┼───────────────────┼────────────┼───────────────────┤\n",
              "│ flatten_7 (\u001b[38;5;33mFlatten\u001b[0m) │ (\u001b[38;5;45mNone\u001b[0m, \u001b[38;5;34m16\u001b[0m)        │          \u001b[38;5;34m0\u001b[0m │ content_embeddin… │\n",
              "├─────────────────────┼───────────────────┼────────────┼───────────────────┤\n",
              "│ flatten_8 (\u001b[38;5;33mFlatten\u001b[0m) │ (\u001b[38;5;45mNone\u001b[0m, \u001b[38;5;34m16\u001b[0m)        │          \u001b[38;5;34m0\u001b[0m │ content_embeddin… │\n",
              "├─────────────────────┼───────────────────┼────────────┼───────────────────┤\n",
              "│ content_numerical_… │ (\u001b[38;5;45mNone\u001b[0m, \u001b[38;5;34m1\u001b[0m)         │          \u001b[38;5;34m0\u001b[0m │ -                 │\n",
              "│ (\u001b[38;5;33mInputLayer\u001b[0m)        │                   │            │                   │\n",
              "├─────────────────────┼───────────────────┼────────────┼───────────────────┤\n",
              "│ concat_user_featur… │ (\u001b[38;5;45mNone\u001b[0m, \u001b[38;5;34m83\u001b[0m)        │          \u001b[38;5;34m0\u001b[0m │ flatten[\u001b[38;5;34m0\u001b[0m][\u001b[38;5;34m0\u001b[0m],    │\n",
              "│ (\u001b[38;5;33mConcatenate\u001b[0m)       │                   │            │ flatten_1[\u001b[38;5;34m0\u001b[0m][\u001b[38;5;34m0\u001b[0m],  │\n",
              "│                     │                   │            │ flatten_2[\u001b[38;5;34m0\u001b[0m][\u001b[38;5;34m0\u001b[0m],  │\n",
              "│                     │                   │            │ flatten_3[\u001b[38;5;34m0\u001b[0m][\u001b[38;5;34m0\u001b[0m],  │\n",
              "│                     │                   │            │ flatten_4[\u001b[38;5;34m0\u001b[0m][\u001b[38;5;34m0\u001b[0m],  │\n",
              "│                     │                   │            │ user_combined_nu… │\n",
              "├─────────────────────┼───────────────────┼────────────┼───────────────────┤\n",
              "│ concat_content_fea… │ (\u001b[38;5;45mNone\u001b[0m, \u001b[38;5;34m65\u001b[0m)        │          \u001b[38;5;34m0\u001b[0m │ flatten_5[\u001b[38;5;34m0\u001b[0m][\u001b[38;5;34m0\u001b[0m],  │\n",
              "│ (\u001b[38;5;33mConcatenate\u001b[0m)       │                   │            │ flatten_6[\u001b[38;5;34m0\u001b[0m][\u001b[38;5;34m0\u001b[0m],  │\n",
              "│                     │                   │            │ flatten_7[\u001b[38;5;34m0\u001b[0m][\u001b[38;5;34m0\u001b[0m],  │\n",
              "│                     │                   │            │ flatten_8[\u001b[38;5;34m0\u001b[0m][\u001b[38;5;34m0\u001b[0m],  │\n",
              "│                     │                   │            │ content_numerica… │\n",
              "├─────────────────────┼───────────────────┼────────────┼───────────────────┤\n",
              "│ user_dense_1        │ (\u001b[38;5;45mNone\u001b[0m, \u001b[38;5;34m64\u001b[0m)        │      \u001b[38;5;34m5,376\u001b[0m │ concat_user_feat… │\n",
              "│ (\u001b[38;5;33mDense\u001b[0m)             │                   │            │                   │\n",
              "├─────────────────────┼───────────────────┼────────────┼───────────────────┤\n",
              "│ content_dense_1     │ (\u001b[38;5;45mNone\u001b[0m, \u001b[38;5;34m64\u001b[0m)        │      \u001b[38;5;34m4,224\u001b[0m │ concat_content_f… │\n",
              "│ (\u001b[38;5;33mDense\u001b[0m)             │                   │            │                   │\n",
              "├─────────────────────┼───────────────────┼────────────┼───────────────────┤\n",
              "│ user_dropout        │ (\u001b[38;5;45mNone\u001b[0m, \u001b[38;5;34m64\u001b[0m)        │          \u001b[38;5;34m0\u001b[0m │ user_dense_1[\u001b[38;5;34m0\u001b[0m][\u001b[38;5;34m…\u001b[0m │\n",
              "│ (\u001b[38;5;33mDropout\u001b[0m)           │                   │            │                   │\n",
              "├─────────────────────┼───────────────────┼────────────┼───────────────────┤\n",
              "│ content_dropout     │ (\u001b[38;5;45mNone\u001b[0m, \u001b[38;5;34m64\u001b[0m)        │          \u001b[38;5;34m0\u001b[0m │ content_dense_1[\u001b[38;5;34m…\u001b[0m │\n",
              "│ (\u001b[38;5;33mDropout\u001b[0m)           │                   │            │                   │\n",
              "├─────────────────────┼───────────────────┼────────────┼───────────────────┤\n",
              "│ user_dense_2        │ (\u001b[38;5;45mNone\u001b[0m, \u001b[38;5;34m32\u001b[0m)        │      \u001b[38;5;34m2,080\u001b[0m │ user_dropout[\u001b[38;5;34m0\u001b[0m][\u001b[38;5;34m…\u001b[0m │\n",
              "│ (\u001b[38;5;33mDense\u001b[0m)             │                   │            │                   │\n",
              "├─────────────────────┼───────────────────┼────────────┼───────────────────┤\n",
              "│ content_dense_2     │ (\u001b[38;5;45mNone\u001b[0m, \u001b[38;5;34m32\u001b[0m)        │      \u001b[38;5;34m2,080\u001b[0m │ content_dropout[\u001b[38;5;34m…\u001b[0m │\n",
              "│ (\u001b[38;5;33mDense\u001b[0m)             │                   │            │                   │\n",
              "├─────────────────────┼───────────────────┼────────────┼───────────────────┤\n",
              "│ concat_user_content │ (\u001b[38;5;45mNone\u001b[0m, \u001b[38;5;34m64\u001b[0m)        │          \u001b[38;5;34m0\u001b[0m │ user_dense_2[\u001b[38;5;34m0\u001b[0m][\u001b[38;5;34m…\u001b[0m │\n",
              "│ (\u001b[38;5;33mConcatenate\u001b[0m)       │                   │            │ content_dense_2[\u001b[38;5;34m…\u001b[0m │\n",
              "├─────────────────────┼───────────────────┼────────────┼───────────────────┤\n",
              "│ combined_dense_1    │ (\u001b[38;5;45mNone\u001b[0m, \u001b[38;5;34m64\u001b[0m)        │      \u001b[38;5;34m4,160\u001b[0m │ concat_user_cont… │\n",
              "│ (\u001b[38;5;33mDense\u001b[0m)             │                   │            │                   │\n",
              "├─────────────────────┼───────────────────┼────────────┼───────────────────┤\n",
              "│ combined_dropout    │ (\u001b[38;5;45mNone\u001b[0m, \u001b[38;5;34m64\u001b[0m)        │          \u001b[38;5;34m0\u001b[0m │ combined_dense_1… │\n",
              "│ (\u001b[38;5;33mDropout\u001b[0m)           │                   │            │                   │\n",
              "├─────────────────────┼───────────────────┼────────────┼───────────────────┤\n",
              "│ feedback_score_out… │ (\u001b[38;5;45mNone\u001b[0m, \u001b[38;5;34m1\u001b[0m)         │         \u001b[38;5;34m65\u001b[0m │ combined_dropout… │\n",
              "│ (\u001b[38;5;33mDense\u001b[0m)             │                   │            │                   │\n",
              "└─────────────────────┴───────────────────┴────────────┴───────────────────┘\n"
            ]
          },
          "metadata": {},
          "output_type": "display_data"
        },
        {
          "data": {
            "text/html": [
              "<pre style=\"white-space:pre;overflow-x:auto;line-height:normal;font-family:Menlo,'DejaVu Sans Mono',consolas,'Courier New',monospace\"><span style=\"font-weight: bold\"> Total params: </span><span style=\"color: #00af00; text-decoration-color: #00af00\">18,689</span> (73.00 KB)\n",
              "</pre>\n"
            ],
            "text/plain": [
              "\u001b[1m Total params: \u001b[0m\u001b[38;5;34m18,689\u001b[0m (73.00 KB)\n"
            ]
          },
          "metadata": {},
          "output_type": "display_data"
        },
        {
          "data": {
            "text/html": [
              "<pre style=\"white-space:pre;overflow-x:auto;line-height:normal;font-family:Menlo,'DejaVu Sans Mono',consolas,'Courier New',monospace\"><span style=\"font-weight: bold\"> Trainable params: </span><span style=\"color: #00af00; text-decoration-color: #00af00\">18,689</span> (73.00 KB)\n",
              "</pre>\n"
            ],
            "text/plain": [
              "\u001b[1m Trainable params: \u001b[0m\u001b[38;5;34m18,689\u001b[0m (73.00 KB)\n"
            ]
          },
          "metadata": {},
          "output_type": "display_data"
        },
        {
          "data": {
            "text/html": [
              "<pre style=\"white-space:pre;overflow-x:auto;line-height:normal;font-family:Menlo,'DejaVu Sans Mono',consolas,'Courier New',monospace\"><span style=\"font-weight: bold\"> Non-trainable params: </span><span style=\"color: #00af00; text-decoration-color: #00af00\">0</span> (0.00 B)\n",
              "</pre>\n"
            ],
            "text/plain": [
              "\u001b[1m Non-trainable params: \u001b[0m\u001b[38;5;34m0\u001b[0m (0.00 B)\n"
            ]
          },
          "metadata": {},
          "output_type": "display_data"
        },
        {
          "name": "stdout",
          "output_type": "stream",
          "text": [
            "💪 Melatih Model TensorFlow Hybrid...\n",
            "Epoch 1/25\n",
            "\u001b[1m75/75\u001b[0m \u001b[32m━━━━━━━━━━━━━━━━━━━━\u001b[0m\u001b[37m\u001b[0m \u001b[1m7s\u001b[0m 17ms/step - loss: 9.7045 - mean_absolute_error: 2.7513 - val_loss: 1.6402 - val_mean_absolute_error: 1.1289\n",
            "Epoch 2/25\n",
            "\u001b[1m75/75\u001b[0m \u001b[32m━━━━━━━━━━━━━━━━━━━━\u001b[0m\u001b[37m\u001b[0m \u001b[1m0s\u001b[0m 5ms/step - loss: 1.8702 - mean_absolute_error: 1.1688 - val_loss: 1.6326 - val_mean_absolute_error: 1.1276\n",
            "Epoch 3/25\n",
            "\u001b[1m75/75\u001b[0m \u001b[32m━━━━━━━━━━━━━━━━━━━━\u001b[0m\u001b[37m\u001b[0m \u001b[1m0s\u001b[0m 6ms/step - loss: 1.9060 - mean_absolute_error: 1.2054 - val_loss: 1.6247 - val_mean_absolute_error: 1.1461\n",
            "Epoch 4/25\n",
            "\u001b[1m75/75\u001b[0m \u001b[32m━━━━━━━━━━━━━━━━━━━━\u001b[0m\u001b[37m\u001b[0m \u001b[1m0s\u001b[0m 6ms/step - loss: 1.8622 - mean_absolute_error: 1.1836 - val_loss: 1.6453 - val_mean_absolute_error: 1.1259\n",
            "Epoch 5/25\n",
            "\u001b[1m75/75\u001b[0m \u001b[32m━━━━━━━━━━━━━━━━━━━━\u001b[0m\u001b[37m\u001b[0m \u001b[1m1s\u001b[0m 6ms/step - loss: 1.8868 - mean_absolute_error: 1.1910 - val_loss: 1.6115 - val_mean_absolute_error: 1.1729\n",
            "Epoch 6/25\n",
            "\u001b[1m75/75\u001b[0m \u001b[32m━━━━━━━━━━━━━━━━━━━━\u001b[0m\u001b[37m\u001b[0m \u001b[1m0s\u001b[0m 5ms/step - loss: 1.7835 - mean_absolute_error: 1.1649 - val_loss: 1.6414 - val_mean_absolute_error: 1.1995\n",
            "Epoch 7/25\n",
            "\u001b[1m75/75\u001b[0m \u001b[32m━━━━━━━━━━━━━━━━━━━━\u001b[0m\u001b[37m\u001b[0m \u001b[1m0s\u001b[0m 5ms/step - loss: 1.7821 - mean_absolute_error: 1.1666 - val_loss: 1.6048 - val_mean_absolute_error: 1.1757\n",
            "Epoch 8/25\n",
            "\u001b[1m75/75\u001b[0m \u001b[32m━━━━━━━━━━━━━━━━━━━━\u001b[0m\u001b[37m\u001b[0m \u001b[1m0s\u001b[0m 6ms/step - loss: 1.7862 - mean_absolute_error: 1.1662 - val_loss: 1.6416 - val_mean_absolute_error: 1.1929\n",
            "Epoch 9/25\n",
            "\u001b[1m75/75\u001b[0m \u001b[32m━━━━━━━━━━━━━━━━━━━━\u001b[0m\u001b[37m\u001b[0m \u001b[1m0s\u001b[0m 5ms/step - loss: 1.7405 - mean_absolute_error: 1.1448 - val_loss: 1.6184 - val_mean_absolute_error: 1.1882\n",
            "Epoch 10/25\n",
            "\u001b[1m75/75\u001b[0m \u001b[32m━━━━━━━━━━━━━━━━━━━━\u001b[0m\u001b[37m\u001b[0m \u001b[1m0s\u001b[0m 5ms/step - loss: 1.7304 - mean_absolute_error: 1.1464 - val_loss: 1.6120 - val_mean_absolute_error: 1.1671\n",
            "Epoch 11/25\n",
            "\u001b[1m75/75\u001b[0m \u001b[32m━━━━━━━━━━━━━━━━━━━━\u001b[0m\u001b[37m\u001b[0m \u001b[1m0s\u001b[0m 6ms/step - loss: 1.7780 - mean_absolute_error: 1.1555 - val_loss: 1.6476 - val_mean_absolute_error: 1.2011\n",
            "Epoch 12/25\n",
            "\u001b[1m75/75\u001b[0m \u001b[32m━━━━━━━━━━━━━━━━━━━━\u001b[0m\u001b[37m\u001b[0m \u001b[1m0s\u001b[0m 5ms/step - loss: 1.7404 - mean_absolute_error: 1.1506 - val_loss: 1.6085 - val_mean_absolute_error: 1.1214\n",
            "\n",
            "✅ Pelatihan Selesai.\n",
            "✅ Evaluasi Model (Test MSE): 1.6048\n",
            "✅ Evaluasi Model (Test MAE): 1.1757\n"
          ]
        }
      ],
      "source": [
        "### Membangun dan Melatih Model TensorFlow\n",
        "if 'full_data' in globals() and not full_data.empty and \\\n",
        "   ('target_variable' in globals() and target_variable is not None and target_variable in full_data.columns) and \\\n",
        "   all(f_list_name in globals() for f_list_name in [\n",
        "           'user_categorical_tf_features', 'user_numerical_tf_features',\n",
        "           'interaction_numerical_tf_features', 'content_categorical_tf_features',\n",
        "           'content_numerical_tf_features'\n",
        "       ]):\n",
        "    print(\"\\n🤖 Membangun Model Rekomendasi Hybrid dengan TensorFlow...\")\n",
        "    embedding_dim = 16\n",
        "\n",
        "    combined_user_numerical_tf_features = sorted(list(set(user_numerical_tf_features + interaction_numerical_tf_features)))\n",
        "    combined_user_numerical_tf_features = [f for f in combined_user_numerical_tf_features if f in full_data.columns]\n",
        "\n",
        "    input_user_list = []\n",
        "    user_embeddings_list = []\n",
        "\n",
        "    for feature_name in user_categorical_tf_features:\n",
        "        if feature_name in full_data.columns:\n",
        "            vocab_size = full_data[feature_name].nunique() + 1\n",
        "            user_input = Input(shape=(1,), name=f'user_{feature_name}')\n",
        "            input_user_list.append(user_input)\n",
        "            embedding = Embedding(input_dim=vocab_size, output_dim=embedding_dim, name=f'user_embedding_{feature_name}')(user_input)\n",
        "            embedding = Flatten()(embedding)\n",
        "            user_embeddings_list.append(embedding)\n",
        "\n",
        "    if combined_user_numerical_tf_features:\n",
        "        user_numerical_input_layer = Input(shape=(len(combined_user_numerical_tf_features),), name='user_combined_numerical_features')\n",
        "        input_user_list.append(user_numerical_input_layer)\n",
        "        user_embeddings_list.append(user_numerical_input_layer)\n",
        "\n",
        "    input_content_list = []\n",
        "    content_embeddings_list = []\n",
        "\n",
        "    for feature_name in content_categorical_tf_features:\n",
        "        if feature_name in full_data.columns:\n",
        "            vocab_size = full_data[feature_name].nunique() + 1\n",
        "            content_input = Input(shape=(1,), name=f'content_{feature_name}')\n",
        "            input_content_list.append(content_input)\n",
        "            embedding = Embedding(input_dim=vocab_size, output_dim=embedding_dim, name=f'content_embedding_{feature_name}')(content_input)\n",
        "            embedding = Flatten()(embedding)\n",
        "            content_embeddings_list.append(embedding)\n",
        "\n",
        "    if content_numerical_tf_features:\n",
        "        content_numerical_input_layer = Input(shape=(len(content_numerical_tf_features),), name='content_numerical_features')\n",
        "        input_content_list.append(content_numerical_input_layer)\n",
        "        content_embeddings_list.append(content_numerical_input_layer)\n",
        "\n",
        "    user_vector, content_vector = None, None\n",
        "\n",
        "    if user_embeddings_list:\n",
        "        merged_user_features = Concatenate(name=\"concat_user_features\")(user_embeddings_list) if len(user_embeddings_list) > 1 else user_embeddings_list[0]\n",
        "        user_vector = Dense(64, activation='relu', name=\"user_dense_1\")(merged_user_features)\n",
        "        user_vector = Dropout(0.2, name=\"user_dropout\")(user_vector)\n",
        "        user_vector = Dense(32, activation='relu', name=\"user_dense_2\")(user_vector)\n",
        "    else:\n",
        "        print(\"⚠️ Tidak ada fitur pengguna yang valid untuk membangun user_vector.\")\n",
        "\n",
        "    if content_embeddings_list:\n",
        "        merged_content_features = Concatenate(name=\"concat_content_features\")(content_embeddings_list) if len(content_embeddings_list) > 1 else content_embeddings_list[0]\n",
        "        content_vector = Dense(64, activation='relu', name=\"content_dense_1\")(merged_content_features)\n",
        "        content_vector = Dropout(0.2, name=\"content_dropout\")(content_vector)\n",
        "        content_vector = Dense(32, activation='relu', name=\"content_dense_2\")(content_vector)\n",
        "    else:\n",
        "        print(\"⚠️ Tidak ada fitur konten yang valid untuk membangun content_vector.\")\n",
        "\n",
        "    tf_model = None\n",
        "    if user_vector is not None and content_vector is not None:\n",
        "        combined_vector = Concatenate(name=\"concat_user_content\")([user_vector, content_vector])\n",
        "        dense_layer = Dense(64, activation='relu', name=\"combined_dense_1\")(combined_vector)\n",
        "        dense_layer = Dropout(0.3, name=\"combined_dropout\")(dense_layer)\n",
        "        output_layer = Dense(1, activation='linear', name='feedback_score_output')(dense_layer)\n",
        "\n",
        "        all_inputs = input_user_list + input_content_list\n",
        "\n",
        "        if not all_inputs:\n",
        "            print(\"❌ Tidak ada input yang valid (dari user atau konten) untuk model TensorFlow. Model tidak dapat dibuat.\")\n",
        "        else:\n",
        "            tf_model = Model(inputs=all_inputs, outputs=output_layer)\n",
        "            tf_model.compile(optimizer=Adam(learning_rate=0.001),\n",
        "                             loss='mean_squared_error',\n",
        "                             metrics=[tf.keras.metrics.MeanAbsoluteError()])\n",
        "            tf_model.summary()\n",
        "    else:\n",
        "        print(\"❌ Model tidak dapat dibangun karena user_vector atau content_vector tidak valid.\")\n",
        "\n",
        "    if tf_model:\n",
        "        train_indices, test_indices = train_test_split(full_data.index, test_size=0.2, random_state=42)\n",
        "        y_train = full_data.loc[train_indices, target_variable].values\n",
        "        y_test = full_data.loc[test_indices, target_variable].values\n",
        "\n",
        "        def prepare_model_inputs(df_indices, df_source, user_cat_feats, user_num_feats_combined, content_cat_feats, content_num_feats):\n",
        "            input_list = []\n",
        "            for feature_name in user_cat_feats:\n",
        "                if feature_name in df_source.columns:\n",
        "                    input_list.append(df_source.loc[df_indices, feature_name].values.reshape(-1, 1))\n",
        "            if user_num_feats_combined and all(f in df_source.columns for f in user_num_feats_combined):\n",
        "                input_list.append(df_source.loc[df_indices, user_num_feats_combined].values)\n",
        "            for feature_name in content_cat_feats:\n",
        "                if feature_name in df_source.columns:\n",
        "                    input_list.append(df_source.loc[df_indices, feature_name].values.reshape(-1, 1))\n",
        "            if content_num_feats and all(f in df_source.columns for f in content_num_feats):\n",
        "                input_list.append(df_source.loc[df_indices, content_num_feats].values)\n",
        "            return input_list\n",
        "\n",
        "        X_input_list_train = prepare_model_inputs(\n",
        "            train_indices,\n",
        "            full_data,\n",
        "            user_categorical_tf_features,\n",
        "            combined_user_numerical_tf_features,\n",
        "            content_categorical_tf_features,\n",
        "            content_numerical_tf_features\n",
        "        )\n",
        "        X_input_list_test = prepare_model_inputs(\n",
        "            test_indices,\n",
        "            full_data,\n",
        "            user_categorical_tf_features,\n",
        "            combined_user_numerical_tf_features,\n",
        "            content_categorical_tf_features,\n",
        "            content_numerical_tf_features\n",
        "        )\n",
        "\n",
        "        if not X_input_list_train or len(X_input_list_train) != len(tf_model.inputs):\n",
        "            print(f\"❌ Gagal menyiapkan data training/testing. Jumlah input ({len(X_input_list_train)}) tidak sesuai dengan layer model ({len(tf_model.inputs)}).\")\n",
        "            print(f\"   Nama input layer model: {[inp.name for inp in tf_model.inputs]}\")\n",
        "        else:\n",
        "            print(\"💪 Melatih Model TensorFlow Hybrid...\")\n",
        "            history = tf_model.fit(X_input_list_train, y_train,\n",
        "                                   epochs=25,\n",
        "                                   batch_size=32,\n",
        "                                   validation_data=(X_input_list_test, y_test),\n",
        "                                   callbacks=[tf.keras.callbacks.EarlyStopping(monitor='val_loss', patience=5, restore_best_weights=True)],\n",
        "                                   verbose=1)\n",
        "\n",
        "            print(\"\\n✅ Pelatihan Selesai.\")\n",
        "            loss, mae = tf_model.evaluate(X_input_list_test, y_test, verbose=0)\n",
        "            print(f\"✅ Evaluasi Model (Test MSE): {loss:.4f}\")\n",
        "            print(f\"✅ Evaluasi Model (Test MAE): {mae:.4f}\")\n",
        "    else:\n",
        "        print(\"❌ Model TensorFlow tidak berhasil dibangun, tidak bisa dilatih.\")\n",
        "else:\n",
        "    print(\"❌ Kondisi awal tidak terpenuhi untuk pelatihan model (data kosong atau fitur/target tidak valid).\")\n",
        "    if 'tf_model' not in locals(): tf_model = None"
      ]
    },
    {
      "cell_type": "markdown",
      "metadata": {
        "id": "uoa4EwfLSDiJ"
      },
      "source": [
        "## 6. SAVE MODELS & PREPROCESSORS"
      ]
    },
    {
      "cell_type": "code",
      "execution_count": null,
      "metadata": {
        "colab": {
          "base_uri": "https://localhost:8080/"
        },
        "id": "Vlg8ord9SJDa",
        "outputId": "94f6bd8a-322d-4263-e518-742f67f2c481"
      },
      "outputs": [
        {
          "name": "stderr",
          "output_type": "stream",
          "text": [
            "WARNING:absl:You are saving your model as an HDF5 file via `model.save()` or `keras.saving.save_model(model)`. This file format is considered legacy. We recommend using instead the native Keras format, e.g. `model.save('my_model.keras')` or `keras.saving.save_model(model, 'my_model.keras')`. \n"
          ]
        },
        {
          "name": "stdout",
          "output_type": "stream",
          "text": [
            "✅ Model TensorFlow disimpan ke: model_artifacts\\recs_model.h5\n",
            "✅ LabelEncoders disimpan ke: model_artifacts\\label_encoders.pkl\n",
            "   LabelEncoder untuk 'mata_kuliah' memiliki kelas: ['Basis Data', 'Matematika Diskrit', 'Pemrograman Dasar', 'Sistem Operasi', 'Statistik']\n",
            "✅ Scalers disimpan ke: model_artifacts\\scalers.pkl\n",
            "   Scaler numerik di-fit pada fitur: ['ipk_terakhir', 'rating_pengguna', 'waktu_belajar_per_hari', 'watch_ratio']\n",
            "✅ Informasi fitur yang digunakan model disimpan ke: model_artifacts\\features_info.pkl\n",
            "   Fitur kategorikal konten yang disimpan: ['mata_kuliah_encoded', 'platform_encoded', 'format_encoded', 'kesulitan_encoded']\n",
            "✅ Kategori unik dari LabelEncoders disimpan ke: model_artifacts\\unique_categories.pkl\n",
            "   Kategori unik 'mata_kuliah': ['Basis Data', 'Matematika Diskrit', 'Pemrograman Dasar', 'Sistem Operasi', 'Statistik']\n",
            "✅ Data konten yang relevan untuk rekomendasi disimpan ke: model_artifacts\\data_konten_for_recs.pkl\n",
            "   Kolom yang disimpan di data_konten_for_recs: ['id_konten', 'judul', 'durasi', 'mata_kuliah', 'platform', 'format', 'kesulitan', 'rating_pengguna']\n",
            "\n",
            "🎉 Semua artefak model berhasil disimpan. Sekarang Anda siap untuk membangun aplikasi Streamlit!\n"
          ]
        }
      ],
      "source": [
        "# --- SIMPAN SEMUA ARTEFAK MODEL UNTUK DEPLOYMENT ---\n",
        "output_dir = 'model_artifacts'\n",
        "os.makedirs(output_dir, exist_ok=True)\n",
        "\n",
        "if tf_model:\n",
        "    model_path = os.path.join(output_dir, 'recs_model.h5')\n",
        "    tf_model.save(model_path)\n",
        "    print(f\"✅ Model TensorFlow disimpan ke: {model_path}\")\n",
        "else:\n",
        "    print(\"❌ Model TensorFlow tidak tersedia untuk disimpan.\")\n",
        "\n",
        "le_path = os.path.join(output_dir, 'label_encoders.pkl')\n",
        "with open(le_path, 'wb') as f:\n",
        "    pickle.dump(label_encoders, f)\n",
        "print(f\"✅ LabelEncoders disimpan ke: {le_path}\")\n",
        "# PENTING: Periksa apakah 'mata_kuliah' ada di label_encoders\n",
        "if 'mata_kuliah' in label_encoders:\n",
        "    print(f\"   LabelEncoder untuk 'mata_kuliah' memiliki kelas: {list(label_encoders['mata_kuliah'].classes_)}\")\n",
        "else:\n",
        "    print(\"   ❌ Peringatan: LabelEncoder untuk 'mata_kuliah' TIDAK ditemukan. Ini adalah masalah serius untuk app.py!\")\n",
        "\n",
        "\n",
        "scaler_path = os.path.join(output_dir, 'scalers.pkl')\n",
        "with open(scaler_path, 'wb') as f:\n",
        "    pickle.dump(scalers, f)\n",
        "print(f\"✅ Scalers disimpan ke: {scaler_path}\")\n",
        "# PENTING: Jika scaler dibuat, cek feature_names_in_\n",
        "if 'all_numerical' in scalers:\n",
        "    print(f\"   Scaler numerik di-fit pada fitur: {scalers['all_numerical_feature_names_in_']}\")\n",
        "\n",
        "\n",
        "features_info = {\n",
        "    'user_categorical_tf_features': user_categorical_tf_features,\n",
        "    'user_numerical_tf_features': user_numerical_tf_features,\n",
        "    'interaction_numerical_tf_features': interaction_numerical_tf_features,\n",
        "    'content_categorical_tf_features': content_categorical_tf_features,\n",
        "    'content_numerical_tf_features': content_numerical_tf_features\n",
        "}\n",
        "features_path = os.path.join(output_dir, 'features_info.pkl')\n",
        "with open(features_path, 'wb') as f:\n",
        "    pickle.dump(features_info, f)\n",
        "print(f\"✅ Informasi fitur yang digunakan model disimpan ke: {features_path}\")\n",
        "print(f\"   Fitur kategorikal konten yang disimpan: {features_info['content_categorical_tf_features']}\")\n",
        "\n",
        "\n",
        "unique_categories_path = os.path.join(output_dir, 'unique_categories.pkl')\n",
        "unique_categories = {\n",
        "    feature: list(le.classes_)\n",
        "    for feature, le in label_encoders.items()\n",
        "}\n",
        "with open(unique_categories_path, 'wb') as f:\n",
        "    pickle.dump(unique_categories, f)\n",
        "print(f\"✅ Kategori unik dari LabelEncoders disimpan ke: {unique_categories_path}\")\n",
        "# PENTING: Periksa apakah 'mata_kuliah' ada di unique_categories\n",
        "if 'mata_kuliah' in unique_categories:\n",
        "    print(f\"   Kategori unik 'mata_kuliah': {unique_categories['mata_kuliah']}\")\n",
        "else:\n",
        "    print(\"   ❌ Peringatan: 'mata_kuliah' TIDAK ditemukan di unique_categories. Pastikan datanya benar.\")\n",
        "\n",
        "# Simpan data_konten asli (atau kolom-kolom relevan) untuk ditampilkan di rekomendasi\n",
        "content_cols_to_save = ['id_konten', 'judul', 'durasi', 'mata_kuliah', 'platform', 'format', 'kesulitan', 'rating_pengguna']\n",
        "final_content_cols = [col for col in content_cols_to_save if col in data_konten.columns]\n",
        "\n",
        "if not data_konten.empty and final_content_cols:\n",
        "    data_konten_for_recs_path = os.path.join(output_dir, 'data_konten_for_recs.pkl')\n",
        "    data_konten[final_content_cols].to_pickle(data_konten_for_recs_path)\n",
        "    print(f\"✅ Data konten yang relevan untuk rekomendasi disimpan ke: {data_konten_for_recs_path}\")\n",
        "    print(f\"   Kolom yang disimpan di data_konten_for_recs: {final_content_cols}\")\n",
        "    if 'mata_kuliah' not in final_content_cols:\n",
        "        print(\"   ❌ Peringatan: Kolom 'mata_kuliah' TIDAK termasuk dalam data_konten_for_recs.pkl. Ini akan menyebabkan error di app.py.\")\n",
        "else:\n",
        "    print(\"❌ Data konten kosong atau kolom relevan tidak ditemukan, tidak dapat menyimpan untuk rekomendasi.\")\n",
        "\n",
        "print(\"\\n🎉 Semua artefak model berhasil disimpan. Sekarang Anda siap untuk membangun aplikasi Streamlit!\")"
      ]
    }
  ],
  "metadata": {
    "colab": {
      "provenance": []
    },
    "kernelspec": {
      "display_name": ".venv",
      "language": "python",
      "name": "python3"
    },
    "language_info": {
      "codemirror_mode": {
        "name": "ipython",
        "version": 3
      },
      "file_extension": ".py",
      "mimetype": "text/x-python",
      "name": "python",
      "nbconvert_exporter": "python",
      "pygments_lexer": "ipython3",
      "version": "3.12.7"
    }
  },
  "nbformat": 4,
  "nbformat_minor": 0
}
